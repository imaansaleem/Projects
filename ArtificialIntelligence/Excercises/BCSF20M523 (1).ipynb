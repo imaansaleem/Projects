{
 "cells": [
  {
   "cell_type": "code",
   "execution_count": 12,
   "id": "da8acbc5",
   "metadata": {},
   "outputs": [
    {
     "name": "stdout",
     "output_type": "stream",
     "text": [
      "### Load Dataset\n",
      "Flowers names:\n",
      "['setosa' 'versicolor' 'virginica']\n",
      "  sepal length (cm) sepal width (cm) petal length (cm) petal width (cm) target\n",
      "0               5.1              3.5               1.4              0.2    0.0\n",
      "1               4.9              3.0               1.4              0.2    0.0\n",
      "2               4.7              3.2               1.3              0.2    0.0\n",
      "3               4.6              3.1               1.5              0.2    0.0\n",
      "4               5.0              3.6               1.4              0.2    0.0\n",
      "### Split Data\n"
     ]
    }
   ],
   "source": [
    "#import libraries\n",
    "import numpy as np\n",
    "import pandas as pd\n",
    "print(\"\"\"### Load Dataset\"\"\")\n",
    " \n",
    "#load dataset\n",
    "from sklearn.datasets import load_iris\n",
    "data = load_iris()\n",
    " \n",
    "#data.data\n",
    "print(\"Flowers names:\")\n",
    "print(data.target_names)\n",
    " \n",
    "# create dtaframe\n",
    "df = pd.DataFrame(np.c_[data.data, data.target], columns=[list(data.feature_names)+['target']])\n",
    "print(df.head())\n",
    " \n",
    "df.tail()\n",
    " \n",
    "df.shape\n",
    "print(\"\"\"### Split Data\"\"\")\n",
    " \n",
    "X = df.iloc[:, 0:-1]\n",
    "y = df.iloc[:, -1]\n"
   ]
  },
  {
   "cell_type": "code",
   "execution_count": 13,
   "id": "921668b2",
   "metadata": {},
   "outputs": [
    {
     "name": "stdout",
     "output_type": "stream",
     "text": [
      "Shape of X_train =  (120, 4)\n",
      "Shape of y_train =  (120,)\n",
      "Shape of X_test =  (30, 4)\n",
      "Shape of y_test =  (30,)\n"
     ]
    }
   ],
   "source": [
    "from sklearn.model_selection import train_test_split\n",
    "X_train, X_test, y_train, y_test = train_test_split(X, y, test_size=0.2, random_state=2020)\n",
    " \n",
    "print('Shape of X_train = ', X_train.shape)\n",
    "print('Shape of y_train = ', y_train.shape)\n",
    "print('Shape of X_test = ', X_test.shape)\n",
    "print('Shape of y_test = ', y_test.shape)\n",
    " "
   ]
  },
  {
   "cell_type": "code",
   "execution_count": 14,
   "id": "fc7ce8c1",
   "metadata": {},
   "outputs": [
    {
     "name": "stdout",
     "output_type": "stream",
     "text": [
      "## Train Support Vector Classification Model\n",
      "Accuracy (kernel=rbf): 0.8666666666666667\n"
     ]
    }
   ],
   "source": [
    "\n",
    "print(\"\"\"## Train Support Vector Classification Model\"\"\")\n",
    "from sklearn.svm import SVC\n",
    " \n",
    "classification_rbf = SVC(kernel='rbf')\n",
    "classification_rbf.fit(X_train, y_train)\n",
    " \n",
    "print(\"Accuracy (kernel=rbf):\", classification_rbf.score(X_test, y_test))\n"
   ]
  },
  {
   "cell_type": "code",
   "execution_count": 15,
   "id": "8619ea8a",
   "metadata": {},
   "outputs": [
    {
     "name": "stdout",
     "output_type": "stream",
     "text": [
      "## Feature Scaling\n",
      "Accuracy (kernel=rbf) scaled: 0.8333333333333334\n"
     ]
    }
   ],
   "source": [
    "print(\"\"\"## Feature Scaling\"\"\")\n",
    " \n",
    "from sklearn.preprocessing import StandardScaler\n",
    "sc = StandardScaler()\n",
    " \n",
    "sc.fit(X_train)\n",
    " \n",
    "X_train_sc = sc.transform(X_train)\n",
    "X_test_sc = sc.transform(X_test)\n",
    " \n",
    "classification_rbf_2 = SVC(kernel='rbf')\n",
    "classification_rbf_2.fit(X_train_sc, y_train)\n",
    " \n",
    "print(\"Accuracy (kernel=rbf) scaled:\", classification_rbf_2.score(X_test_sc, y_test))\n"
   ]
  },
  {
   "cell_type": "code",
   "execution_count": 16,
   "id": "e4962d5f",
   "metadata": {},
   "outputs": [
    {
     "name": "stdout",
     "output_type": "stream",
     "text": [
      "## SVC with kernel Polynomial\n",
      "Accuracy (kernel=poly): 0.7333333333333333\n"
     ]
    }
   ],
   "source": [
    "print(\"\"\"## SVC with kernel Polynomial\"\"\")\n",
    " \n",
    "classification_poly = SVC(kernel='poly', degree=2)\n",
    "classification_poly.fit(X_train_sc, y_train)\n",
    " \n",
    "print(\"Accuracy (kernel=poly):\", classification_poly.score(X_test_sc, y_test))\n"
   ]
  },
  {
   "cell_type": "code",
   "execution_count": 17,
   "id": "39edda19",
   "metadata": {},
   "outputs": [
    {
     "name": "stdout",
     "output_type": "stream",
     "text": [
      "## SVC with Kernel Linear\n",
      "Accuracy with linear: 0.8333333333333334\n"
     ]
    }
   ],
   "source": [
    "print(\"\"\"## SVC with Kernel Linear\"\"\")\n",
    " \n",
    "classification_linear = SVC(kernel='linear')\n",
    "classification_linear.fit(X_train_sc, y_train)\n",
    " \n",
    "print(\"Accuracy with linear:\", classification_linear.score(X_test_sc, y_test))\n"
   ]
  },
  {
   "cell_type": "code",
   "execution_count": 19,
   "id": "e562af65",
   "metadata": {},
   "outputs": [
    {
     "name": "stdout",
     "output_type": "stream",
     "text": [
      "## Predict Flower\n",
      "Flower is virginica\n"
     ]
    }
   ],
   "source": [
    "\n",
    "print(\"\"\"## Predict Flower\"\"\")\n",
    "patient1 = [1.4,\n",
    " 1.1,\n",
    " 5.0,\n",
    " 2.2]\n",
    " \n",
    "flower_sc = sc.transform(np.array([patient1]))\n",
    "\n",
    "pred = int(classification_linear.predict(flower_sc))\n",
    " \n",
    "predicted = data.target_names[pred]\n",
    "\n",
    "print('Flower is ' + predicted)"
   ]
  },
  {
   "cell_type": "code",
   "execution_count": null,
   "id": "43193259",
   "metadata": {},
   "outputs": [],
   "source": []
  }
 ],
 "metadata": {
  "kernelspec": {
   "display_name": "Python 3 (ipykernel)",
   "language": "python",
   "name": "python3"
  },
  "language_info": {
   "codemirror_mode": {
    "name": "ipython",
    "version": 3
   },
   "file_extension": ".py",
   "mimetype": "text/x-python",
   "name": "python",
   "nbconvert_exporter": "python",
   "pygments_lexer": "ipython3",
   "version": "3.10.9"
  }
 },
 "nbformat": 4,
 "nbformat_minor": 5
}
