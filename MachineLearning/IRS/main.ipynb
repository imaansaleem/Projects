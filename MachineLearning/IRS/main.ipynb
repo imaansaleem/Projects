{
 "cells": [
  {
   "attachments": {},
   "cell_type": "markdown",
   "metadata": {},
   "source": [
    "# Information Retrieval System"
   ]
  },
  {
   "attachments": {},
   "cell_type": "markdown",
   "metadata": {},
   "source": [
    "Information retrieval is the process of obtaining information system resources that are relevant to an information need from a collection of those resources. "
   ]
  },
  {
   "cell_type": "code",
   "execution_count": 1,
   "metadata": {},
   "outputs": [
    {
     "ename": "ModuleNotFoundError",
     "evalue": "No module named 'numpy'",
     "output_type": "error",
     "traceback": [
      "\u001b[1;31m---------------------------------------------------------------------------\u001b[0m",
      "\u001b[1;31mModuleNotFoundError\u001b[0m                       Traceback (most recent call last)",
      "Cell \u001b[1;32mIn[1], line 2\u001b[0m\n\u001b[0;32m      1\u001b[0m \u001b[39m# required imports\u001b[39;00m\n\u001b[1;32m----> 2\u001b[0m \u001b[39mimport\u001b[39;00m \u001b[39mnumpy\u001b[39;00m \u001b[39mas\u001b[39;00m \u001b[39mnp\u001b[39;00m\n\u001b[0;32m      3\u001b[0m \u001b[39mimport\u001b[39;00m \u001b[39mfnmatch\u001b[39;00m\n\u001b[0;32m      4\u001b[0m \u001b[39mimport\u001b[39;00m \u001b[39mos\u001b[39;00m\n",
      "\u001b[1;31mModuleNotFoundError\u001b[0m: No module named 'numpy'"
     ]
    }
   ],
   "source": [
    "# required imports\n",
    "import numpy as np\n",
    "import fnmatch\n",
    "import os\n"
   ]
  },
  {
   "attachments": {},
   "cell_type": "markdown",
   "metadata": {},
   "source": [
    "Suppose we have 3 files containing data :"
   ]
  },
  {
   "attachments": {},
   "cell_type": "markdown",
   "metadata": {},
   "source": [
    "### File Contents"
   ]
  },
  {
   "attachments": {},
   "cell_type": "markdown",
   "metadata": {},
   "source": [
    "![\"This is my book\" - File 1](https://github.com/ahmad-14a/CS-F20-ML/blob/main/IRS-Assignment%201/f1.png?raw=true)\n",
    "![\"This is my pen\" - File 1](https://github.com/ahmad-14a/CS-F20-ML/blob/main/IRS-Assignment%201/f2.png?raw=true)\n",
    "![\"This is book is intersting\" - File 1](https://github.com/ahmad-14a/CS-F20-ML/blob/main/IRS-Assignment%201/f3.png?raw=true)"
   ]
  },
  {
   "attachments": {},
   "cell_type": "markdown",
   "metadata": {},
   "source": [
    "# Step 1 Create Files with Dummy data"
   ]
  },
  {
   "attachments": {},
   "cell_type": "markdown",
   "metadata": {},
   "source": [
    "You have to create few files with dummy data of your own choice as shown above."
   ]
  },
  {
   "attachments": {},
   "cell_type": "markdown",
   "metadata": {},
   "source": [
    "# Step 2 Traverse Directories"
   ]
  },
  {
   "attachments": {},
   "cell_type": "markdown",
   "metadata": {},
   "source": [
    " Now, You have to traverse the directories and store all the files into a dict type variable(files_dict). "
   ]
  },
  {
   "cell_type": "code",
   "execution_count": null,
   "metadata": {},
   "outputs": [],
   "source": [
    "# Here we have initialized some variables\n",
    "\n",
    "file_count = 0             # file_count to count number of files\n",
    "files_dict = {}            # files_dic to store count of every file    \n",
    "unique_word_set = set()    # unique_word_set to store all the unique words in a set\n"
   ]
  },
  {
   "cell_type": "code",
   "execution_count": null,
   "metadata": {},
   "outputs": [
    {
     "ename": "NameError",
     "evalue": "name 'os' is not defined",
     "output_type": "error",
     "traceback": [
      "\u001b[1;31m---------------------------------------------------------------------------\u001b[0m",
      "\u001b[1;31mNameError\u001b[0m                                 Traceback (most recent call last)",
      "Cell \u001b[1;32mIn[1], line 4\u001b[0m\n\u001b[0;32m      1\u001b[0m \u001b[39m#Your code starts here\u001b[39;00m\n\u001b[0;32m      2\u001b[0m \n\u001b[0;32m      3\u001b[0m \u001b[39m#This code uses the os and fnmatch modules to list all the files in the current directory that have the .txt extension.\u001b[39;00m\n\u001b[1;32m----> 4\u001b[0m \u001b[39mfor\u001b[39;00m file \u001b[39min\u001b[39;00m os\u001b[39m.\u001b[39mlistdir(\u001b[39m'\u001b[39m\u001b[39m.\u001b[39m\u001b[39m'\u001b[39m): \u001b[39m#lists all the files in the current directory\u001b[39;00m\n\u001b[0;32m      5\u001b[0m     \u001b[39m#If format of file matches with parameter which means any file name that starts with f and ends with .txt. \u001b[39;00m\n\u001b[0;32m      6\u001b[0m     \u001b[39mif\u001b[39;00m fnmatch\u001b[39m.\u001b[39mfnmatch(file,\u001b[39m'\u001b[39m\u001b[39mf*.txt\u001b[39m\u001b[39m'\u001b[39m):\n\u001b[0;32m      7\u001b[0m         \u001b[39m#If the file name matches, the condition is True, and the file count is incremented\u001b[39;00m\n\u001b[0;32m      8\u001b[0m         file_count \u001b[39m+\u001b[39m\u001b[39m=\u001b[39m \u001b[39m1\u001b[39m\n",
      "\u001b[1;31mNameError\u001b[0m: name 'os' is not defined"
     ]
    }
   ],
   "source": [
    "\n",
    "# This code uses the os and fnmatch modules to list all the files in the current directory that have the .txt extension.\n",
    "for file in os.listdir('.'):  # lists all the files in the current directory\n",
    "    # If format of file matches with parameter which means any file name that starts with f and ends with .txt.\n",
    "    if fnmatch.fnmatch(file, 'f*.txt'):\n",
    "        # If the file name matches, the condition is True, and the file count is incremented\n",
    "        file_count += 1\n",
    "        # Place the file name inside files_dict\n",
    "        files_dict[file] = 1\n",
    "  "
   ]
  },
  {
   "attachments": {},
   "cell_type": "markdown",
   "metadata": {},
   "source": [
    "Displaying the count of files."
   ]
  },
  {
   "cell_type": "code",
   "execution_count": null,
   "metadata": {},
   "outputs": [],
   "source": [
    "# Print Total Number  of files\n",
    "print(\"\\nTotal Number  of files\\n\", file_count)"
   ]
  },
  {
   "attachments": {},
   "cell_type": "markdown",
   "metadata": {},
   "source": [
    "Displaying Dictionary containing all files."
   ]
  },
  {
   "cell_type": "code",
   "execution_count": null,
   "metadata": {},
   "outputs": [],
   "source": [
    "#print Dictionary containing  files\n",
    "print(\"\\nDictionary containing  files\\n\", files_dict)"
   ]
  },
  {
   "attachments": {},
   "cell_type": "markdown",
   "metadata": {},
   "source": [
    "# Step 3 Extract Unique Vocabulary"
   ]
  },
  {
   "cell_type": "code",
   "execution_count": null,
   "metadata": {},
   "outputs": [],
   "source": [
    "\n",
    "# open all files in files_dict\n",
    "for files in files_dict:\n",
    "    # opening in read mode\n",
    "    with open(files, 'r') as f:\n",
    "        # Read the contents of the file, convert to lowercase, and split into words \n",
    "        words = f.read().lower().split()\n",
    "        # add unique words to the set\n",
    "        unique_word_set.update(words)\n",
    "\n",
    "#print set\n",
    "print(unique_word_set)\n",
    "\n",
    "#print Number of files\n",
    "print(\"\\nCount of files: \", file_count)\n"
   ]
  },
  {
   "attachments": {},
   "cell_type": "markdown",
   "metadata": {},
   "source": [
    "### Expected Output"
   ]
  },
  {
   "attachments": {},
   "cell_type": "markdown",
   "metadata": {},
   "source": [
    "![\"Expected Output of unique words\" - File 1](https://github.com/ahmad-14a/CS-F20-ML/blob/main/IRS-Assignment%201/o1.png?raw=true)\n"
   ]
  },
  {
   "attachments": {},
   "cell_type": "markdown",
   "metadata": {},
   "source": [
    "# Step 4 Create Term Document Matrix"
   ]
  },
  {
   "attachments": {},
   "cell_type": "markdown",
   "metadata": {},
   "source": [
    "Create Term-Doc-matrix using Bag of word approach.and display its contents initially and finally."
   ]
  },
  {
   "cell_type": "code",
   "execution_count": null,
   "metadata": {},
   "outputs": [],
   "source": [
    "# Create Term doc matrix such that colmns will be unique words and all the files will be rows\n",
    "# Write code to count all the unique words appearances in all the files and store it in a dictionary for words "
   ]
  },
  {
   "cell_type": "code",
   "execution_count": null,
   "metadata": {},
   "outputs": [],
   "source": [
    "\n",
    "# Create the term-document matrix\n",
    "matrix = [[] for i in range(file_count)]\n",
    "\n",
    "for i in range(file_count):\n",
    "    # Initialize a row of zeros for the matrix\n",
    "    matrix[i] = [0] * len(unique_word_set)\n",
    "print(matrix)\n",
    "\n",
    "# Initialize the dictionary to store the word counts\n",
    "words_dictionary = {}\n",
    "\n",
    "# variable to assign unique index to words_dictionary\n",
    "count = 0\n",
    "\n",
    "# Loop over all the files\n",
    "for file_name in files_dict.keys():\n",
    "    # Open the file in read mode\n",
    "    with open(file_name, 'r') as f:\n",
    "        # Read the file's contents and split into words\n",
    "        words = f.read().lower().split()\n",
    "\n",
    "        # Loop over each word and update its count in the dictionary\n",
    "        for word in words:\n",
    "            # if word is not already in dictionary\n",
    "            if word not in words_dictionary:\n",
    "                # place it in the dictionary with unique index as value\n",
    "                words_dictionary[word] = count\n",
    "                # increment index\n",
    "                count += 1\n",
    "# print dictionary\n",
    "print(words_dictionary)\n"
   ]
  },
  {
   "attachments": {},
   "cell_type": "markdown",
   "metadata": {},
   "source": [
    "### Expected Output"
   ]
  },
  {
   "attachments": {},
   "cell_type": "markdown",
   "metadata": {},
   "source": [
    "![\"Expected Output of unique words\" - File 1](https://github.com/ahmad-14a/CS-F20-ML/blob/main/IRS-Assignment%201/o2.png?raw=true)"
   ]
  },
  {
   "attachments": {},
   "cell_type": "markdown",
   "metadata": {},
   "source": [
    "# Step 5 Fill Term Document Matrix"
   ]
  },
  {
   "cell_type": "code",
   "execution_count": null,
   "metadata": {},
   "outputs": [],
   "source": [
    "# Fill the term doc matrix by checking if the unique word exists in a file or not\n",
    "# If it exists then substitute a 1 in term_doc_matrix (eg : TERM_DOC_MATRIX[file][word] = 1 ) \n",
    "# Do the same for all the files present in the directory"
   ]
  },
  {
   "cell_type": "code",
   "execution_count": null,
   "metadata": {},
   "outputs": [],
   "source": [
    "\n",
    "# Loop over all the files in the dictionary\n",
    "for file_name in files_dict.keys():\n",
    "    # Open the file in read mode\n",
    "    with open(file_name, 'r') as f:\n",
    "        # Read the contents of the file, convert to lowercase, and split into words\n",
    "        words = f.read().lower().split()\n",
    "        # go for every word in words\n",
    "        for word in words:\n",
    "            # if word is found in word_dictionary\n",
    "            if word in words_dictionary.keys():\n",
    "                # Get the index of the word in the words dictionary\n",
    "                # files_dict[file_name] gives index of word from file name dictionary\n",
    "                term_doc_matrix[files_dict[file_name]][words_dictionary[word]] = 1\n",
    "\n",
    "# Print the term-document matrix\n",
    "print(\"\\nTerm-document matrix:\\n\", term_doc_matrix)\n"
   ]
  },
  {
   "attachments": {},
   "cell_type": "markdown",
   "metadata": {},
   "source": [
    "### Expected Output"
   ]
  },
  {
   "attachments": {},
   "cell_type": "markdown",
   "metadata": {},
   "source": [
    "![\"Expected Output of unique words\" - File 1](https://github.com/ahmad-14a/CS-F20-ML/blob/main/IRS-Assignment%201/o4.png?raw=true)\n"
   ]
  },
  {
   "attachments": {},
   "cell_type": "markdown",
   "metadata": {},
   "source": [
    "# Step 6 Ask for a user Query"
   ]
  },
  {
   "cell_type": "code",
   "execution_count": null,
   "metadata": {},
   "outputs": [],
   "source": [
    "# For user query make a column vector of length of all the unique words present in a set"
   ]
  },
  {
   "cell_type": "code",
   "execution_count": null,
   "metadata": {},
   "outputs": [],
   "source": [
    "\n",
    "# Create a column vector of zeros of length equal to the number of unique words\n",
    "query_vector = np.zeros((len(unique_word_set), 1))\n",
    "\n",
    "# print query_vector\n",
    "print(\"Query Vector:\\n\", query_vector)\n"
   ]
  },
  {
   "attachments": {},
   "cell_type": "markdown",
   "metadata": {},
   "source": [
    "### Expected Output"
   ]
  },
  {
   "attachments": {},
   "cell_type": "markdown",
   "metadata": {},
   "source": [
    "![\"Expected Output of unique words\" - File 1](https://github.com/ahmad-14a/CS-F20-ML/blob/main/IRS-Assignment%201/o5.png?raw=true)\n"
   ]
  },
  {
   "cell_type": "code",
   "execution_count": null,
   "metadata": {},
   "outputs": [],
   "source": [
    "# query = input(\"\\nWrite something for searching  \")\n",
    "# Check every word of query if it exists in the set of unique words or not\n",
    "# If exixts then increment the count of that word in word dictionary\n"
   ]
  },
  {
   "cell_type": "code",
   "execution_count": null,
   "metadata": {},
   "outputs": [],
   "source": [
    "\n",
    "# Taking input\n",
    "query = input(\"\\nWrite something for searching  \")\n",
    "\n",
    "# split all the words passed in query\n",
    "query_words = query.lower().split()\n",
    "\n",
    "# for each word in query\n",
    "for word in query_words:\n",
    "    # if word is present in unique word set\n",
    "    if word in unique_word_set:\n",
    "        # increment the query vector\n",
    "        query_vector[words_dictionary[word]] += 1\n",
    "\n",
    "# print query vector\n",
    "print(\"\\nQuery vector:\\n\", query_vector)\n"
   ]
  },
  {
   "attachments": {},
   "cell_type": "markdown",
   "metadata": {},
   "source": [
    "### Expected Output"
   ]
  },
  {
   "attachments": {},
   "cell_type": "markdown",
   "metadata": {},
   "source": [
    "![\"Expected Output of unique words\" - File 1](https://github.com/ahmad-14a/CS-F20-ML/blob/main/IRS-Assignment%201/o6.png?raw=true)\n"
   ]
  },
  {
   "attachments": {},
   "cell_type": "markdown",
   "metadata": {},
   "source": [
    "# Step 7 Display Resultant Vector"
   ]
  },
  {
   "attachments": {},
   "cell_type": "markdown",
   "metadata": {},
   "source": [
    "Display \n",
    "1. Resultant vector.\n",
    "2. Max value in resultant vector.\n",
    "3. Index of max value in resultant vector.\n"
   ]
  },
  {
   "cell_type": "code",
   "execution_count": null,
   "metadata": {},
   "outputs": [],
   "source": [
    "\n",
    "\n",
    "# multiply term_doc_matrix with query_vector using dot product\n",
    "resultant = np.dot(term_doc_matrix, query_vector)\n",
    "\n",
    "# find max value from the resultant vector\n",
    "maxValue = max(resultant)\n",
    "\n",
    "# find max index from the resultant vector\n",
    "max_index = np.argmax(resultant)\n",
    "\n",
    "# print Resultant vactor\n",
    "print(\"Result:\\n\", resultant)\n",
    "\n",
    "# print Max Index\n",
    "print(\"Max_index:\\n\", max_index)\n",
    "\n",
    "# print Max value\n",
    "print(\"Max:\\n\", maxValue)\n"
   ]
  },
  {
   "attachments": {},
   "cell_type": "markdown",
   "metadata": {},
   "source": [
    "### Expected Output"
   ]
  },
  {
   "attachments": {},
   "cell_type": "markdown",
   "metadata": {},
   "source": [
    "![\"Expected Output of unique words\" - File 1](https://github.com/ahmad-14a/CS-F20-ML/blob/main/IRS-Assignment%201/o7.png?raw=true)\n"
   ]
  },
  {
   "attachments": {},
   "cell_type": "markdown",
   "metadata": {},
   "source": [
    "# Step 8 Display the contents of file\n"
   ]
  },
  {
   "cell_type": "code",
   "execution_count": null,
   "metadata": {},
   "outputs": [],
   "source": [
    "#Write the code to identify the file_name having maximum value in the resultant vector and display its contents."
   ]
  },
  {
   "cell_type": "code",
   "execution_count": null,
   "metadata": {},
   "outputs": [],
   "source": [
    "\n",
    "# Get the file name with the maximum value in the resultant vector\n",
    "for key, value in files_dict.items():\n",
    "    # if max index of query vector matches with the files_dict values \n",
    "    if value == max_index:\n",
    "        # Print the contents of the file\n",
    "        print(\"\\nContents of the file with maximum value in the resultant vector:\", key)\n",
    "        \n",
    "        # open the file against the file name in read mode\n",
    "        with open(key, 'r') as f:\n",
    "            # print the read data\n",
    "            print(f.read())\n",
    "        break\n"
   ]
  },
  {
   "attachments": {},
   "cell_type": "markdown",
   "metadata": {},
   "source": [
    "Congratulations we, build our own small IRS."
   ]
  }
 ],
 "metadata": {
  "kernelspec": {
   "display_name": "Python 3",
   "language": "python",
   "name": "python3"
  },
  "language_info": {
   "codemirror_mode": {
    "name": "ipython",
    "version": 3
   },
   "file_extension": ".py",
   "mimetype": "text/x-python",
   "name": "python",
   "nbconvert_exporter": "python",
   "pygments_lexer": "ipython3",
   "version": "3.11.0"
  }
 },
 "nbformat": 4,
 "nbformat_minor": 4
}
