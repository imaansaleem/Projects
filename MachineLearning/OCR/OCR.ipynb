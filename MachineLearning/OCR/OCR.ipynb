{
 "cells": [
  {
   "cell_type": "markdown",
   "metadata": {},
   "source": [
    "# OCR SYSTEM"
   ]
  },
  {
   "cell_type": "markdown",
   "metadata": {},
   "source": [
    "#### Import Libraries"
   ]
  },
  {
   "cell_type": "code",
   "execution_count": 1,
   "metadata": {},
   "outputs": [],
   "source": [
    "%matplotlib inline\n",
    "import numpy as np\n",
    "from matplotlib import pyplot as plt\n",
    "import pandas as pd"
   ]
  },
  {
   "cell_type": "markdown",
   "metadata": {},
   "source": [
    "#### Import sample images"
   ]
  },
  {
   "cell_type": "code",
   "execution_count": 2,
   "metadata": {},
   "outputs": [
    {
     "data": {
      "image/png": "[encoded data removed]",
      "text/plain": [
       "<Figure size 640x480 with 2 Axes>"
      ]
     },
     "metadata": {},
     "output_type": "display_data"
    }
   ],
   "source": [
    "img2=np.array([0,0,0,0,0,0,0,0,0,0,0,0,0,0,0,0,0,0,1,1,1,0,0,0,0,0,0,0,0,0,0,0,0,1,1,0,0,0,0,0,0,0,0,\n",
    "0,0,1,0,0,1,0,0,0,0,0,0,0,0,0,0,0,1,1,0,0,1,0,0,0,0,0,0,0,0,0,0,0,1,1,0,0,1,0,0,0,0,0,0,0,0,0,0,0,1,\n",
    "1,1,0,1,0,0,0,0,0,0,0,0,0,0,1,1,0,1,0,1,0,0,0,0,0,0,0,0,0,0,1,0,0,1,0,1,0,0,0,0,0,0,0,0,0,1,0,0,0,1,\n",
    "0,1,1,1,1,1,1,1,1,1,1,1,0,0,0,1,1,0,0,0,0,0,0,0,0,0,0,0,0,0,0,0,1,0,0,0,0,0,0,0,0,0,0,0,0,0,0,0,1,0,\n",
    "0,0,0,0,0,0,0,0,0,0,0,0,0,0,1,0,0,0,0,0,0,0,0,0,0,0,0,0,0,0,1,0,0,0,0,0,0,0,0,0,0,0,0,0,0,0,1,0,0,0,\n",
    "0,0,0,0,0,0,0,0,0,0,0,0,0],dtype=np.uint8)\n",
    "\n",
    "img4=np.array([0,0,0,0,0,0,0,0,0,0,0,0,0,0,0,0,0,0,0,0,0,0,0,0,0,0,0,0,0,0,0,0,0,0,0,0,0,0,0,1,0,0,0,\n",
    "0,0,0,0,0,1,1,1,1,1,1,1,1,0,0,0,0,0,0,0,0,0,0,0,0,0,0,0,1,0,0,0,0,0,0,0,1,0,0,0,0,0,0,0,1,0,0,0,0,0,\n",
    "1,1,1,0,0,0,0,0,0,1,0,0,0,1,1,1,0,0,0,0,0,0,0,0,0,1,0,0,1,1,0,0,0,0,0,0,0,0,0,0,0,1,1,1,0,0,0,0,0,0,\n",
    "0,0,1,1,1,1,1,1,0,0,0,0,0,0,0,0,0,1,1,0,0,0,1,0,0,0,0,0,0,0,0,0,0,0,0,0,0,0,1,0,0,0,0,0,0,0,0,0,0,0,\n",
    "0,0,0,1,1,0,0,0,0,0,0,0,0,0,0,0,0,0,0,0,1,0,0,0,0,0,0,0,0,0,0,0,0,0,0,0,0,0,0,0,0,0,0,0,0,0,0,0,0,0,\n",
    "0,0,0,0,0,0,0,0,0,0,0,0,0],dtype=np.uint8)\n",
    "\n",
    "img = np.reshape(img4,(16,16),order= 'F')\n",
    "img1 = np.reshape(img2,(16,16),order= 'F')\n",
    "\n",
    "fig, axes = plt.subplots(1, 2)\n",
    "axes[0].imshow(img)\n",
    "axes[0].set_title('Image of 4')\n",
    "axes[1].imshow(img1)\n",
    "axes[1].set_title('Image of 2')\n",
    "\n",
    "plt.tight_layout()\n",
    "\n",
    "plt.show()"
   ]
  },
  {
   "cell_type": "markdown",
   "metadata": {},
   "source": [
    "## Import Data from the Files"
   ]
  },
  {
   "cell_type": "markdown",
   "metadata": {},
   "source": [
    "#### Training Data"
   ]
  },
  {
   "cell_type": "code",
   "execution_count": 3,
   "metadata": {},
   "outputs": [
    {
     "name": "stdout",
     "output_type": "stream",
     "text": [
      "Shape of X_train : (500, 256)\n",
      "Shape of y_train : (500,)\n"
     ]
    }
   ],
   "source": [
    "#Your code here\n",
    "#load data\n",
    "with open(\"trainX.txt\", \"r\") as file:\n",
    "    data = file.read()\n",
    "\n",
    "# Split the data into rows\n",
    "rows = data.strip().split('\\n')\n",
    "\n",
    "# Initialize an empty numpy array\n",
    "X_train = np.zeros((len(rows), len(rows[0].split())))\n",
    "\n",
    "# Fill the array with data\n",
    "for i, row in enumerate(rows):\n",
    "    values = row.split()\n",
    "    X_train[i] = values\n",
    "\n",
    "with open(\"trainY.txt\", \"r\") as file:\n",
    "    data = file.read()\n",
    "\n",
    "# Split the data into individual values\n",
    "values = data.strip().split()\n",
    "\n",
    "# Convert values to integers\n",
    "y_train = np.array(values, dtype=int)\n",
    "\n",
    "# Reshape y_train\n",
    "y_train = np.reshape(y_train, (len(values),))\n",
    "\n",
    "# Print the dimensions\n",
    "print(\"Shape of X_train :\",X_train.shape)\n",
    "print(f\"Shape of y_train :\",y_train.shape)\n",
    "\n",
    "samplePoints = X_train.shape[0]"
   ]
  },
  {
   "cell_type": "markdown",
   "metadata": {},
   "source": [
    "Expected Output <br>\n",
    "- Shape of X_train : (500, 256) <br>\n",
    "- Shape of y_train : (500,)"
   ]
  },
  {
   "cell_type": "markdown",
   "metadata": {},
   "source": [
    "### Testing Data"
   ]
  },
  {
   "cell_type": "code",
   "execution_count": 4,
   "metadata": {},
   "outputs": [
    {
     "name": "stdout",
     "output_type": "stream",
     "text": [
      "Shape of X_test : (100, 256)\n",
      "Shape of y_test : (100,)\n"
     ]
    }
   ],
   "source": [
    "#Your code here\n",
    "#load data\n",
    "with open(\"testX.txt\", \"r\") as file:\n",
    "    data = file.read()\n",
    "\n",
    "# Split the data into rows\n",
    "rows = data.strip().split('\\n')\n",
    "\n",
    "# Initialize an empty numpy array\n",
    "X_test = np.zeros((len(rows), len(rows[0].split())))\n",
    "\n",
    "# Fill the array with data\n",
    "for i, row in enumerate(rows):\n",
    "    values = row.split()\n",
    "    X_test[i] = values\n",
    "\n",
    "with open(\"testY.txt\", \"r\") as file:\n",
    "    data = file.read()\n",
    "\n",
    "# Split the data into individual values\n",
    "values = data.strip().split()\n",
    "\n",
    "# Convert values to integers\n",
    "y_test = np.array(values, dtype=int)\n",
    "\n",
    "# Reshape y_train\n",
    "y_test = np.reshape(y_test, (len(values),))\n",
    "\n",
    "# Print the dimensions\n",
    "print(\"Shape of X_test :\",X_test.shape)\n",
    "print(f\"Shape of y_test :\",y_test.shape)"
   ]
  },
  {
   "cell_type": "markdown",
   "metadata": {},
   "source": [
    "Expected Output <br>\n",
    "- Shape of X_train : (100, 256) <br>\n",
    "- Shape of y_train : (100,)\n"
   ]
  },
  {
   "cell_type": "markdown",
   "metadata": {},
   "source": [
    "### Dividing Data W.R.T its Classes"
   ]
  },
  {
   "cell_type": "markdown",
   "metadata": {},
   "source": [
    "##### Training Data"
   ]
  },
  {
   "cell_type": "code",
   "execution_count": 5,
   "metadata": {},
   "outputs": [],
   "source": [
    "#AS we know first 250 images are of 2 so we will take first 250 images from X_train\n",
    "#your code here\n",
    "X_train = np.loadtxt(\"trainX.txt\")\n",
    "\n",
    "# Extract the first 250 images of digit '2'\n",
    "img2_X_train = X_train[:250]\n",
    "img4_X_train = X_train[250:500]"
   ]
  },
  {
   "cell_type": "markdown",
   "metadata": {},
   "source": [
    "##### Another way\n",
    "You can coment the below code if you dont want to try this effective way and will use the above code to divide the data into classes"
   ]
  },
  {
   "cell_type": "code",
   "execution_count": 6,
   "metadata": {},
   "outputs": [
    {
     "name": "stdout",
     "output_type": "stream",
     "text": [
      "Shape of X_train : (250, 256)\n",
      "Shape of y_train : (250, 256)\n"
     ]
    }
   ],
   "source": [
    "#But in case if we didn't know that first 250 images are of 2 then we can use this code\n",
    "#This img2_X_train will contain only only those images from X_train which have corespondong label of 2 in Y_train\n",
    "# Find the indices of images with label '2'\n",
    "img2_X_train = X_train[np.where(y_train == 2)[0]]\n",
    "img4_X_train = X_train[np.where(y_train == 4)[0]]\n",
    "print(\"Shape of X_train :\",img2_X_train.shape)\n",
    "print(\"Shape of y_train :\",img4_X_train.shape)"
   ]
  },
  {
   "cell_type": "markdown",
   "metadata": {},
   "source": [
    "Expected Output <br>\n",
    "- Shape of X_train : (250, 256) <br>\n",
    "- Shape of y_train : (250, 256)\n"
   ]
  },
  {
   "cell_type": "markdown",
   "metadata": {},
   "source": [
    "##### Testing Data"
   ]
  },
  {
   "cell_type": "code",
   "execution_count": 7,
   "metadata": {},
   "outputs": [
    {
     "name": "stdout",
     "output_type": "stream",
     "text": [
      "Shape of X_train : (50, 256)\n",
      "Shape of y_train : (50, 256)\n"
     ]
    }
   ],
   "source": [
    "# Your code here\n",
    "X_test = np.loadtxt(\"testX.txt\")\n",
    "img2_X_test = X_test[np.where(y_test == 2)[0]]\n",
    "img4_X_test = X_test[np.where(y_test == 4)[0]]\n",
    "print(\"Shape of X_train :\",img2_X_test.shape)\n",
    "print(\"Shape of y_train :\",img4_X_test.shape)\n",
    "sPoints = X_test.shape[0]"
   ]
  },
  {
   "cell_type": "markdown",
   "metadata": {},
   "source": [
    "Expected Output <br>\n",
    "- Shape of X_train : (50, 256) <br>\n",
    "- Shape of y_train : (50, 256)\n"
   ]
  },
  {
   "cell_type": "markdown",
   "metadata": {},
   "source": [
    "### Finding the Probabilities"
   ]
  },
  {
   "cell_type": "markdown",
   "metadata": {},
   "source": [
    "### Training Data"
   ]
  },
  {
   "cell_type": "markdown",
   "metadata": {},
   "source": [
    "##### Probabailty of 1s and 0s"
   ]
  },
  {
   "cell_type": "code",
   "execution_count": 8,
   "metadata": {},
   "outputs": [
    {
     "name": "stdout",
     "output_type": "stream",
     "text": [
      "(256,)\n",
      "(256,)\n",
      "(256,)\n",
      "(256,)\n"
     ]
    }
   ],
   "source": [
    "#computing number of ones in img2_array\n",
    "img2_one_count = np.sum(img2_X_train, axis=0)\n",
    "\n",
    "#computing number of zeros in img2_array by subtracting number of one from total number of rows\n",
    "img2_zero_count = img2_X_train.shape[0] - img2_one_count\n",
    "\n",
    "#computing number of ones in img4_array\n",
    "img4_one_count = np.sum(img4_X_train, axis=0)\n",
    "\n",
    "#computing number of ones in img4_array\n",
    "img4_zero_count = img4_X_train.shape[0] - img4_one_count\n",
    "\n",
    "#computing probability of 1|2\n",
    "img2_one_prob = img2_one_count/img2_X_train.shape[0]\n",
    "\n",
    "#computing probability of 0|2\n",
    "img2_zero_prob = img2_zero_count/img2_X_train.shape[0]\n",
    "\n",
    "#computing probability of 1|4\n",
    "img4_one_prob = img4_one_count/img4_X_train.shape[0]\n",
    "\n",
    "#computing probability of 0|2\n",
    "img4_zero_prob = img4_zero_count/img4_X_train.shape[0]\n",
    "\n",
    "print(img2_one_prob.shape)\n",
    "print(img2_zero_prob.shape)\n",
    "print(img4_one_prob.shape)\n",
    "print(img4_zero_prob.shape)"
   ]
  },
  {
   "cell_type": "markdown",
   "metadata": {},
   "source": [
    "Expected Output <br>\n",
    "- (256,)\n",
    "- (256,)\n",
    "- (256,)\n",
    "- (256,)\n"
   ]
  },
  {
   "cell_type": "markdown",
   "metadata": {},
   "source": [
    "#### Class Probabilities"
   ]
  },
  {
   "cell_type": "code",
   "execution_count": 9,
   "metadata": {},
   "outputs": [],
   "source": [
    "# Your code here\n",
    "\n",
    "def apply_naive_bayes(testData, img2_prob_one, img2_prob_zero,img4_prob_one,img4_prob_zero, img2, img4,samplePoints):\n",
    "    # compute number of features\n",
    "    num_features = len(img2_one_prob)\n",
    "    \n",
    "    # compute probability of 2\n",
    "    prob_2 = img2.shape[0]/samplePoints\n",
    "    \n",
    "    # compute probability of 4\n",
    "    prob_4 = img4.shape[0]/samplePoints\n",
    "    \n",
    "    # compute Class Probabilities\n",
    "    class_probabilities = np.empty((0, 2))\n",
    "\n",
    "    for instance in testData:\n",
    "        # Initialize with the prior probability of class 2\n",
    "        class2_prob = 1\n",
    "        \n",
    "        # Initialize with the prior probability of class 0\n",
    "        class4_prob = 1  \n",
    "\n",
    "        # applying baye's rule\n",
    "        for i in range(num_features):\n",
    "            if instance[i] == 1:\n",
    "                class2_prob *= img2_prob_one[i]\n",
    "                class4_prob *= img4_prob_one[i]\n",
    "            else:\n",
    "                class2_prob *= img2_prob_zero[i]\n",
    "                class4_prob *= img4_prob_zero[i]\n",
    "                \n",
    "        class2_prob*=prob_2\n",
    "        class4_prob*=prob_4\n",
    "        class_probabilities = np.vstack([class_probabilities, [class2_prob, class4_prob]])\n",
    "    return class_probabilities"
   ]
  },
  {
   "cell_type": "markdown",
   "metadata": {},
   "source": [
    "#### Predictions"
   ]
  },
  {
   "cell_type": "code",
   "execution_count": 10,
   "metadata": {},
   "outputs": [],
   "source": [
    "# # Your code here\n",
    "\n",
    "def predictions(classProb):\n",
    "    \n",
    "    class_predictions=[]\n",
    "    for instance in classProb:\n",
    "\n",
    "        # placing predictions\n",
    "        if instance[0] >= instance[1]:\n",
    "            class_predictions.append(2)\n",
    "        else:\n",
    "            class_predictions.append(4)\n",
    "    return class_predictions\n"
   ]
  },
  {
   "cell_type": "markdown",
   "metadata": {},
   "source": [
    "#### Overall Accuracy"
   ]
  },
  {
   "cell_type": "code",
   "execution_count": 11,
   "metadata": {},
   "outputs": [
    {
     "name": "stdout",
     "output_type": "stream",
     "text": [
      "Confusion Matrix\n",
      "TP = 249 FP = 2\n",
      "FN = 1 TN = 248\n",
      "\n",
      "Overall Accuracy =  0.994\n"
     ]
    }
   ],
   "source": [
    "# Your code here\n",
    "\n",
    "def calculate_confusion_matrix(predic, actual_labels):\n",
    "    TP = 0  # True Positives\n",
    "    FP = 0  # False Positives\n",
    "    FN = 0  # False Negatives\n",
    "    TN = 0  # True Negatives\n",
    "\n",
    "    # Iterate over the predicted and actual labels\n",
    "    for pred, actual in zip(predic, actual_labels):\n",
    "        if pred == 2 and actual == 2:\n",
    "            TP += 1  # Increment TP when prediction and actual are both positive (Class 2)\n",
    "        elif pred == 2 and actual == 4:\n",
    "            FP += 1  # Increment FP when prediction is positive (Class 2) but actual is negative (Class 4)\n",
    "        elif pred == 4 and actual == 2:\n",
    "            FN += 1  # Increment FN when prediction is negative (Class 4) but actual is positive (Class 2)\n",
    "        elif pred == 4 and actual == 4:\n",
    "            TN += 1  # Increment TN when prediction and actual are both negative (Class 4)\n",
    "\n",
    "    return TP, FP, FN, TN\n",
    "# calling apply_naive_bayes\n",
    "classProb = apply_naive_bayes(X_train, img2_one_prob, img2_zero_prob, img4_one_prob, img4_zero_prob, img2_X_train, img4_X_train, samplePoints)\n",
    "\n",
    "# Calculate TP, FP, FN, TN using the predictions and actual labels\n",
    "TP, FP, FN, TN = calculate_confusion_matrix(predictions(classProb), y_train)\n",
    "\n",
    "# Print the confusion matrix\n",
    "print(\"Confusion Matrix\")\n",
    "print(\"TP =\", TP, \"FP =\", FP)\n",
    "print(\"FN =\", FN, \"TN =\", TN)\n",
    "\n",
    "# compute overall acurracy\n",
    "overall_Accuracy = (TP+TN)/(TP+FP+FN+TN)\n",
    "print(\"\\nOverall Accuracy = \", overall_Accuracy)"
   ]
  },
  {
   "cell_type": "markdown",
   "metadata": {},
   "source": [
    "Expected Output \n",
    "<br><br>\n",
    "**Confusion Matrix**\n",
    "<br>\n",
    "TP =  248 \tFP =  4\n",
    "<br>\n",
    "FN =  2 \tTN =  246\n",
    "<br>\n",
    "- Overall Accuracy =  0.988"
   ]
  },
  {
   "cell_type": "markdown",
   "metadata": {},
   "source": [
    "#### Classwise Accuracy"
   ]
  },
  {
   "cell_type": "code",
   "execution_count": 12,
   "metadata": {},
   "outputs": [
    {
     "name": "stdout",
     "output_type": "stream",
     "text": [
      "Total accuracy of Training data given class 2:  0.996\n",
      "Total accuracy of Training data given class 4:  0.992\n"
     ]
    }
   ],
   "source": [
    "# Your code here\n",
    "\n",
    "# compute class2_train_total_accuracy\n",
    "class2_train_total_accuracy = TP / (TP + FN)\n",
    "\n",
    "# compute class4_train_total_accuracy\n",
    "class4_train_total_accuracy = TN / (TN + FP)\n",
    "\n",
    "\n",
    "print(\"Total accuracy of Training data given class 2: \", class2_train_total_accuracy)\n",
    "print(\"Total accuracy of Training data given class 4: \" , class4_train_total_accuracy)"
   ]
  },
  {
   "cell_type": "markdown",
   "metadata": {},
   "source": [
    "Expected Output <br>\n",
    "\n",
    "- Total accuracy of Training data given class 2:  0.984\n",
    "<br>\n",
    "- Total accuracy of Training data given class 4:  0.992"
   ]
  },
  {
   "cell_type": "markdown",
   "metadata": {},
   "source": [
    "### FOR TESTING DATA"
   ]
  },
  {
   "cell_type": "markdown",
   "metadata": {},
   "source": [
    "##### Probabailty of 1s and 0s"
   ]
  },
  {
   "cell_type": "code",
   "execution_count": 13,
   "metadata": {},
   "outputs": [
    {
     "name": "stdout",
     "output_type": "stream",
     "text": [
      "(256,)\n",
      "(256,)\n",
      "(256,)\n",
      "(256,)\n"
     ]
    }
   ],
   "source": [
    "#computing number of ones in img2_array\n",
    "img2_one_count = np.sum(img2_X_test, axis=0)\n",
    "\n",
    "#computing number of zeros in img2_array by subtracting number of one from total number of rows\n",
    "img2_zero_count = img2_X_test.shape[0] - img2_one_count\n",
    "\n",
    "#computing number of ones in img4_array\n",
    "img4_one_count = np.sum(img4_X_test, axis=0)\n",
    "\n",
    "#computing number of ones in img4_array\n",
    "img4_zero_count = img4_X_test.shape[0] - img4_one_count\n",
    "\n",
    "#computing probability of 1|2\n",
    "img2_one_prob = img2_one_count/img2_X_test.shape[0]\n",
    "\n",
    "#computing probability of 0|2\n",
    "img2_zero_prob = img2_zero_count/img2_X_test.shape[0]\n",
    "\n",
    "#computing probability of 1|4\n",
    "img4_one_prob = img4_one_count/img4_X_test.shape[0]\n",
    "\n",
    "#computing probability of 0|2\n",
    "img4_zero_prob = img4_zero_count/img4_X_test.shape[0]\n",
    "\n",
    "print(img2_one_prob.shape)\n",
    "print(img2_zero_prob.shape)\n",
    "print(img4_one_prob.shape)\n",
    "print(img4_zero_prob.shape)"
   ]
  },
  {
   "cell_type": "markdown",
   "metadata": {},
   "source": [
    "#### Class Probabilities"
   ]
  },
  {
   "cell_type": "code",
   "execution_count": 14,
   "metadata": {},
   "outputs": [],
   "source": [
    "# your code here\n",
    "# Class Probabilities\n",
    "classProb = apply_naive_bayes(X_test, img2_one_prob, img2_zero_prob, img4_one_prob, img4_zero_prob, img2_X_test, img4_X_test, sPoints)\n"
   ]
  },
  {
   "cell_type": "markdown",
   "metadata": {},
   "source": [
    "#### Predictions"
   ]
  },
  {
   "cell_type": "code",
   "execution_count": 15,
   "metadata": {},
   "outputs": [],
   "source": [
    "# your code here\n",
    "# predictions\n",
    "pre = predictions(classProb)\n"
   ]
  },
  {
   "cell_type": "markdown",
   "metadata": {},
   "source": [
    "#### Classwise Accuracy"
   ]
  },
  {
   "cell_type": "code",
   "execution_count": 16,
   "metadata": {},
   "outputs": [
    {
     "name": "stdout",
     "output_type": "stream",
     "text": [
      "Total accuracy of Testing data given class 2:  1.0\n",
      "Total accuracy of Testing data given class 4:  1.0\n"
     ]
    }
   ],
   "source": [
    "# your code here\n",
    "# Calculate TP, FP, FN, TN using the predictions and actual labels\n",
    "TP, FP, FN, TN = calculate_confusion_matrix(pre, y_test)\n",
    "\n",
    "# compute class2_test_total_accuracy\n",
    "class2_test_total_accuracy = TP / (TP + FN)\n",
    "\n",
    "# compute class4_test_total_accuracy\n",
    "class4_test_total_accuracy = TN / (TN + FP)\n",
    "\n",
    "print(\"Total accuracy of Testing data given class 2: \", class2_test_total_accuracy)\n",
    "print(\"Total accuracy of Testing data given class 4: \", class4_test_total_accuracy)"
   ]
  },
  {
   "cell_type": "markdown",
   "metadata": {},
   "source": [
    "Expected Output <br>\n",
    "\n",
    "- Total accuracy of Testing data given class 2:  1.0\n",
    "<br>\n",
    "- Total accuracy of Testing data given class 4:  1.0"
   ]
  },
  {
   "cell_type": "markdown",
   "metadata": {},
   "source": [
    "#### Overall Accuracy"
   ]
  },
  {
   "cell_type": "code",
   "execution_count": 17,
   "metadata": {},
   "outputs": [
    {
     "name": "stdout",
     "output_type": "stream",
     "text": [
      "Confusion Matrix\n",
      "TP = 50 FP = 0\n",
      "FN = 0 TN = 50\n",
      "\n",
      "Overall Accuracy =  1.0\n"
     ]
    }
   ],
   "source": [
    "# your code here \n",
    "\n",
    "# Print the confusion matrix\n",
    "print(\"Confusion Matrix\")\n",
    "print(\"TP =\", TP, \"FP =\", FP)\n",
    "print(\"FN =\", FN, \"TN =\", TN)\n",
    "\n",
    "# compute overall acurracy\n",
    "overall_Accuracy = (TP+TN)/(TP+FP+FN+TN)\n",
    "print(\"\\nOverall Accuracy = \", overall_Accuracy)"
   ]
  },
  {
   "cell_type": "markdown",
   "metadata": {},
   "source": [
    "Expected Output \n",
    "<br><br>\n",
    "**Confusion Matrix**\n",
    "<br>\n",
    "TP =  50 \tFP =  0\n",
    "<br>\n",
    "FN =  0 \tTN =  50\n",
    "<br>\n",
    "- Overall Accuracy =  1.0"
   ]
  },
  {
   "cell_type": "markdown",
   "metadata": {},
   "source": [
    "### Plot your Test pixels/features in form of image to correctly identify whether our model is giving correct results"
   ]
  },
  {
   "cell_type": "markdown",
   "metadata": {},
   "source": [
    "2 plots for each class"
   ]
  },
  {
   "cell_type": "code",
   "execution_count": 18,
   "metadata": {},
   "outputs": [
    {
     "data": {
      "image/png": "[encoded data removed]",
      "text/plain": [
       "<Figure size 640x480 with 2 Axes>"
      ]
     },
     "metadata": {},
     "output_type": "display_data"
    },
    {
     "name": "stdout",
     "output_type": "stream",
     "text": [
      "Right Prediction 2\n",
      "Left Prediction 4\n"
     ]
    }
   ],
   "source": [
    "img = np.reshape(X_test[20],(16,16),order= 'F')\n",
    "img1 = np.reshape(X_test[50],(16,16),order= 'F')\n",
    "\n",
    "fig, axes = plt.subplots(1, 2)\n",
    "axes[0].imshow(img1)\n",
    "axes[0].set_title('Image of 4')\n",
    "axes[1].imshow(img)\n",
    "axes[1].set_title('Image of 2')\n",
    "\n",
    "plt.tight_layout()\n",
    "\n",
    "plt.show()\n",
    "\n",
    "# Prediction\n",
    "print(\"Right Prediction\",pre[20])\n",
    "print(\"Left Prediction\",pre[50])"
   ]
  },
  {
   "cell_type": "code",
   "execution_count": 19,
   "metadata": {},
   "outputs": [
    {
     "data": {
      "image/png": "[encoded data removed]",
      "text/plain": [
       "<Figure size 640x480 with 2 Axes>"
      ]
     },
     "metadata": {},
     "output_type": "display_data"
    },
    {
     "name": "stdout",
     "output_type": "stream",
     "text": [
      "Right Prediction 2\n",
      "Left Prediction 4\n"
     ]
    }
   ],
   "source": [
    "img = np.reshape(X_test[22],(16,16),order= 'F')\n",
    "img1 = np.reshape(X_test[52],(16,16),order= 'F')\n",
    "\n",
    "fig, axes = plt.subplots(1, 2)\n",
    "axes[0].imshow(img1)\n",
    "axes[0].set_title('Image of 4')\n",
    "axes[1].imshow(img)\n",
    "axes[1].set_title('Image of 2')\n",
    "\n",
    "plt.tight_layout()\n",
    "\n",
    "plt.show()\n",
    "\n",
    "# Prediction\n",
    "print(\"Right Prediction\",pre[22])\n",
    "print(\"Left Prediction\",pre[52])"
   ]
  },
  {
   "cell_type": "code",
   "execution_count": 20,
   "metadata": {},
   "outputs": [
    {
     "data": {
      "image/png": "[encoded data removed]",
      "text/plain": [
       "<Figure size 640x480 with 2 Axes>"
      ]
     },
     "metadata": {},
     "output_type": "display_data"
    },
    {
     "name": "stdout",
     "output_type": "stream",
     "text": [
      "Right Prediction 2\n",
      "Left Prediction 4\n"
     ]
    }
   ],
   "source": [
    "img = np.reshape(X_test[30],(16,16),order= 'F')\n",
    "img1 = np.reshape(X_test[60],(16,16),order= 'F')\n",
    "\n",
    "fig, axes = plt.subplots(1, 2)\n",
    "axes[0].imshow(img1)\n",
    "axes[0].set_title('Image of 4')\n",
    "axes[1].imshow(img)\n",
    "axes[1].set_title('Image of 2')\n",
    "\n",
    "plt.tight_layout()\n",
    "\n",
    "plt.show()\n",
    "\n",
    "# Prediction\n",
    "print(\"Right Prediction\",pre[30])\n",
    "print(\"Left Prediction\",pre[60])"
   ]
  },
  {
   "cell_type": "code",
   "execution_count": 21,
   "metadata": {},
   "outputs": [
    {
     "data": {
      "image/png": "[encoded data removed]",
      "text/plain": [
       "<Figure size 640x480 with 2 Axes>"
      ]
     },
     "metadata": {},
     "output_type": "display_data"
    },
    {
     "name": "stdout",
     "output_type": "stream",
     "text": [
      "Right Prediction 2\n",
      "Left Prediction 4\n"
     ]
    }
   ],
   "source": [
    "img = np.reshape(X_test[49],(16,16),order= 'F')\n",
    "img1 = np.reshape(X_test[79],(16,16),order= 'F')\n",
    "\n",
    "fig, axes = plt.subplots(1, 2)\n",
    "axes[0].imshow(img1)\n",
    "axes[0].set_title('Image of 4')\n",
    "axes[1].imshow(img)\n",
    "axes[1].set_title('Image of 2')\n",
    "\n",
    "plt.tight_layout()\n",
    "\n",
    "plt.show()\n",
    "\n",
    "# Prediction\n",
    "print(\"Right Prediction\",pre[49])\n",
    "print(\"Left Prediction\",pre[79])"
   ]
  }
 ],
 "metadata": {
  "kernelspec": {
   "display_name": "Python 3 (ipykernel)",
   "language": "python",
   "name": "python3"
  },
  "language_info": {
   "codemirror_mode": {
    "name": "ipython",
    "version": 3
   },
   "file_extension": ".py",
   "mimetype": "text/x-python",
   "name": "python",
   "nbconvert_exporter": "python",
   "pygments_lexer": "ipython3",
   "version": "3.10.9"
  }
 },
 "nbformat": 4,
 "nbformat_minor": 2
}
